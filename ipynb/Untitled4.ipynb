{
  "cells": [
    {
      "cell_type": "code",
      "execution_count": null,
      "metadata": {
        "id": "ucfLxJVcccim"
      },
      "outputs": [
        {
          "ename": "",
          "evalue": "",
          "output_type": "error",
          "traceback": [
            "\u001b[1;31mRunning cells with 'Python 3.7.9' requires the ipykernel package.\n",
            "\u001b[1;31m<a href='command:jupyter.createPythonEnvAndSelectController'>Create a Python Environment</a> with the required packages."
          ]
        }
      ],
      "source": [
        "import pandas as pd\n",
        "import json"
      ]
    },
    {
      "cell_type": "code",
      "execution_count": null,
      "metadata": {
        "id": "Qz6cnSdEuZO1"
      },
      "outputs": [],
      "source": [
        "from nltk.corpus import wordnet"
      ]
    },
    {
      "cell_type": "code",
      "execution_count": null,
      "metadata": {
        "id": "Dmwx2BfLzZr_"
      },
      "outputs": [],
      "source": [
        "from nltk.stem import WordNetLemmatizer"
      ]
    },
    {
      "cell_type": "code",
      "execution_count": null,
      "metadata": {
        "id": "BFSxGktHudAQ"
      },
      "outputs": [],
      "source": [
        "import nltk"
      ]
    },
    {
      "cell_type": "code",
      "execution_count": null,
      "metadata": {
        "colab": {
          "base_uri": "https://localhost:8080/"
        },
        "id": "dzkf2YcxuP10",
        "outputId": "652a5449-aed4-4ed4-fab3-1598fff0a3cb"
      },
      "outputs": [],
      "source": [
        "nltk.download('wordnet')"
      ]
    },
    {
      "cell_type": "code",
      "execution_count": null,
      "metadata": {
        "colab": {
          "base_uri": "https://localhost:8080/"
        },
        "id": "8ohWVMmlzKrc",
        "outputId": "fe809a93-5916-4848-d1d2-0a949524d840"
      },
      "outputs": [],
      "source": [
        "nltk.download('stopwords')"
      ]
    },
    {
      "cell_type": "code",
      "execution_count": null,
      "metadata": {
        "colab": {
          "base_uri": "https://localhost:8080/"
        },
        "id": "nuicnB030tvn",
        "outputId": "0c01720f-f08a-4a6a-dd41-bc2f7ed618fc"
      },
      "outputs": [],
      "source": [
        "nltk.download('punkt_tab')\n"
      ]
    },
    {
      "cell_type": "code",
      "execution_count": null,
      "metadata": {
        "colab": {
          "base_uri": "https://localhost:8080/",
          "height": 423
        },
        "id": "RH8DDWTkcuZB",
        "outputId": "3e10df23-85a9-4524-bd4c-fbb0ff1d9cf5"
      },
      "outputs": [],
      "source": [
        "with open('dataset/intents.json', 'r') as file:\n",
        "    data = json.load(file)\n",
        "\n",
        "# Convert 'intents' list to DataFrame\n",
        "df = pd.DataFrame(data['intents'])\n",
        "\n",
        "# Show DataFrame\n",
        "df"
      ]
    },
    {
      "cell_type": "code",
      "execution_count": null,
      "metadata": {
        "colab": {
          "base_uri": "https://localhost:8080/"
        },
        "id": "wJP2nYiNfV5k",
        "outputId": "0633d6e7-b068-4320-e59f-025ea0148f42"
      },
      "outputs": [],
      "source": [
        "df.info()"
      ]
    },
    {
      "cell_type": "code",
      "execution_count": null,
      "metadata": {
        "colab": {
          "base_uri": "https://localhost:8080/",
          "height": 209
        },
        "id": "CxFIzpJlg3mF",
        "outputId": "48062e71-8364-4d07-de19-8af8efe3f620"
      },
      "outputs": [],
      "source": [
        "df.isnull().sum()"
      ]
    },
    {
      "cell_type": "code",
      "execution_count": null,
      "metadata": {
        "id": "iN8w_EMm8_LJ"
      },
      "outputs": [],
      "source": [
        "import random"
      ]
    },
    {
      "cell_type": "code",
      "execution_count": null,
      "metadata": {
        "id": "O2q-v8kk0bt_"
      },
      "outputs": [],
      "source": [
        "def synonym_replacement(tokens, limit):\n",
        "    augmented_sentences = []\n",
        "    for i in range(len(tokens)):\n",
        "        synonyms = []\n",
        "        for syn in wordnet.synsets(tokens[i]):\n",
        "            for lemma in syn.lemmas():\n",
        "                synonyms.append(lemma.name())\n",
        "        if len(synonyms) > 0:\n",
        "            num_augmentations = min(limit, len(synonyms))\n",
        "            sampled_synonyms = random.sample(synonyms, num_augmentations)\n",
        "            for synonym in sampled_synonyms:\n",
        "                augmented_tokens = tokens[:i] + [synonym] + tokens[i+1:]\n",
        "                augmented_sentences.append(' '.join(augmented_tokens))\n",
        "    return augmented_sentences"
      ]
    },
    {
      "cell_type": "code",
      "execution_count": null,
      "metadata": {
        "id": "3b-Gs8t_0TAr"
      },
      "outputs": [],
      "source": [
        "text_data=[]\n",
        "labels=[]\n",
        "stopwords= set(nltk.corpus.stopwords.words('english'))\n",
        "lemmatizer=WordNetLemmatizer()\n",
        "\n",
        "limit_per_tag=40\n",
        "\n",
        "for intent in data['intents']:\n",
        "    augmented_sentences_per_tag = 0\n",
        "    for example in intent['patterns']:\n",
        "        tokens = nltk.word_tokenize(example.lower())\n",
        "        filtered_tokens = [lemmatizer.lemmatize(token) for token in tokens if token not in stopwords and token.isalpha()]\n",
        "        if filtered_tokens:\n",
        "            text_data.append(' '.join(filtered_tokens))\n",
        "            labels.append(intent['tag'])\n",
        "\n",
        "            augmented_sentences = synonym_replacement(filtered_tokens, limit_per_tag - augmented_sentences_per_tag)\n",
        "            for augmented_sentence in augmented_sentences:\n",
        "                text_data.append(augmented_sentence)\n",
        "                labels.append(intent['tag'])\n",
        "                augmented_sentences_per_tag += 1\n",
        "                if augmented_sentences_per_tag >= limit_per_tag:\n",
        "                    break"
      ]
    },
    {
      "cell_type": "code",
      "execution_count": null,
      "metadata": {
        "colab": {
          "base_uri": "https://localhost:8080/"
        },
        "id": "a_pdCcPS1Q7z",
        "outputId": "d4909d0d-62c5-43df-da56-eb184ceff947"
      },
      "outputs": [],
      "source": [
        "print(len(text_data))\n",
        "print(len(labels))"
      ]
    },
    {
      "cell_type": "code",
      "execution_count": null,
      "metadata": {
        "id": "Pt0W3yqAnSTZ"
      },
      "outputs": [],
      "source": [
        "from sklearn.feature_extraction.text import TfidfVectorizer\n",
        "\n",
        "vectorizer = TfidfVectorizer()\n",
        "X = vectorizer.fit_transform(text_data)\n",
        "y = labels"
      ]
    },
    {
      "cell_type": "code",
      "execution_count": null,
      "metadata": {
        "id": "_uN5gLkMvEy7"
      },
      "outputs": [],
      "source": [
        "from sklearn.linear_model import LogisticRegression\n",
        "from sklearn.model_selection import train_test_split\n",
        "from sklearn.metrics import accuracy_score, classification_report\n"
      ]
    },
    {
      "cell_type": "code",
      "execution_count": null,
      "metadata": {
        "id": "acICDAfqANoJ"
      },
      "outputs": [],
      "source": [
        "x_train, x_test, y_train, y_test = train_test_split(X, y, test_size=0.2, random_state=42)"
      ]
    },
    {
      "cell_type": "code",
      "execution_count": null,
      "metadata": {
        "id": "tHKRWISrAeK_"
      },
      "outputs": [],
      "source": [
        "model=LogisticRegression()"
      ]
    },
    {
      "cell_type": "code",
      "execution_count": null,
      "metadata": {
        "id": "SaHt9P-8Ahgl"
      },
      "outputs": [],
      "source": [
        "l = model.fit(x_train, y_train)"
      ]
    },
    {
      "cell_type": "code",
      "execution_count": null,
      "metadata": {
        "colab": {
          "base_uri": "https://localhost:8080/",
          "height": 80
        },
        "id": "r51WzwyMAmxr",
        "outputId": "4003ce5a-becc-4353-f927-6b567b4be54c"
      },
      "outputs": [],
      "source": [
        "l"
      ]
    },
    {
      "cell_type": "code",
      "execution_count": null,
      "metadata": {
        "id": "s5ofLuI5n9on"
      },
      "outputs": [],
      "source": [
        "L_pred = model.predict(x_test)"
      ]
    },
    {
      "cell_type": "code",
      "execution_count": null,
      "metadata": {
        "colab": {
          "base_uri": "https://localhost:8080/"
        },
        "id": "qn38HqUzoGeN",
        "outputId": "dabf28d8-7520-4d22-a112-69ac34baeb34"
      },
      "outputs": [],
      "source": [
        "accuracy_score(y_test, L_pred)"
      ]
    },
    {
      "cell_type": "code",
      "execution_count": null,
      "metadata": {
        "id": "51JR4I6agfSK"
      },
      "outputs": [],
      "source": [
        "from sklearn.ensemble import RandomForestClassifier"
      ]
    },
    {
      "cell_type": "code",
      "execution_count": null,
      "metadata": {
        "id": "WWewn3mOni8N"
      },
      "outputs": [],
      "source": [
        "model=RandomForestClassifier()"
      ]
    },
    {
      "cell_type": "code",
      "execution_count": null,
      "metadata": {
        "id": "eXAyWi34nvtj"
      },
      "outputs": [],
      "source": [
        "R=model.fit(x_train,y_train)"
      ]
    },
    {
      "cell_type": "code",
      "execution_count": null,
      "metadata": {
        "colab": {
          "base_uri": "https://localhost:8080/",
          "height": 80
        },
        "id": "-ClB8peSnzvY",
        "outputId": "4d64ba1f-73c2-4d38-bd78-8060d5add054"
      },
      "outputs": [],
      "source": [
        "R"
      ]
    },
    {
      "cell_type": "code",
      "execution_count": null,
      "metadata": {
        "id": "Mr5ex87ModUn"
      },
      "outputs": [],
      "source": [
        "R_pred = model.predict(x_test)"
      ]
    },
    {
      "cell_type": "code",
      "execution_count": null,
      "metadata": {
        "colab": {
          "base_uri": "https://localhost:8080/"
        },
        "id": "XI5I4TZsoia5",
        "outputId": "91976987-496d-4c9c-d2eb-282847545e96"
      },
      "outputs": [],
      "source": [
        "accuracy_score(y_test, R_pred)"
      ]
    },
    {
      "cell_type": "code",
      "execution_count": null,
      "metadata": {
        "id": "GR-orUA2okBp"
      },
      "outputs": [],
      "source": [
        "from sklearn.svm import SVC"
      ]
    },
    {
      "cell_type": "code",
      "execution_count": null,
      "metadata": {
        "id": "_idSoRmeomPo"
      },
      "outputs": [],
      "source": [
        "\n",
        "\n",
        "model=SVC()"
      ]
    },
    {
      "cell_type": "code",
      "execution_count": null,
      "metadata": {
        "id": "cqzufTOtopWe"
      },
      "outputs": [],
      "source": [
        "S=model.fit(x_train,y_train)"
      ]
    },
    {
      "cell_type": "code",
      "execution_count": null,
      "metadata": {
        "colab": {
          "base_uri": "https://localhost:8080/",
          "height": 80
        },
        "id": "_CdwsY62ouot",
        "outputId": "a592885c-0476-4857-eb3a-8812cbba04b5"
      },
      "outputs": [],
      "source": [
        "S"
      ]
    },
    {
      "cell_type": "code",
      "execution_count": null,
      "metadata": {
        "id": "kbAewCcAowT1"
      },
      "outputs": [],
      "source": [
        "s_pred=model.predict(x_test)"
      ]
    },
    {
      "cell_type": "code",
      "execution_count": null,
      "metadata": {
        "colab": {
          "base_uri": "https://localhost:8080/"
        },
        "id": "0wQbCslzo5Pt",
        "outputId": "1d93eea5-9860-44ab-bca2-c113420544b6"
      },
      "outputs": [],
      "source": [
        "accuracy_score(y_test,s_pred)"
      ]
    },
    {
      "cell_type": "code",
      "execution_count": null,
      "metadata": {
        "id": "yrRo0WT4o7lj"
      },
      "outputs": [],
      "source": [
        "from sklearn.tree import DecisionTreeClassifier"
      ]
    },
    {
      "cell_type": "code",
      "execution_count": null,
      "metadata": {
        "id": "HkttsHoErEXq"
      },
      "outputs": [],
      "source": [
        "model=DecisionTreeClassifier()"
      ]
    },
    {
      "cell_type": "code",
      "execution_count": null,
      "metadata": {
        "id": "LXyCtvKXrGL2"
      },
      "outputs": [],
      "source": [
        "D=model.fit(x_train,y_train)"
      ]
    },
    {
      "cell_type": "code",
      "execution_count": null,
      "metadata": {
        "colab": {
          "base_uri": "https://localhost:8080/",
          "height": 80
        },
        "id": "RE0IrDkCrIkP",
        "outputId": "7359d75f-07f1-42aa-a4a0-be0316d556cd"
      },
      "outputs": [],
      "source": [
        "D"
      ]
    },
    {
      "cell_type": "code",
      "execution_count": null,
      "metadata": {
        "id": "h4WHVLP0rJGV"
      },
      "outputs": [],
      "source": [
        "d_pred=model.predict(x_test)"
      ]
    },
    {
      "cell_type": "code",
      "execution_count": null,
      "metadata": {
        "colab": {
          "base_uri": "https://localhost:8080/"
        },
        "id": "cE47B9QTrNgY",
        "outputId": "af838f8a-cc07-4fbc-af3f-e26e2dc2ac3d"
      },
      "outputs": [],
      "source": [
        "accuracy_score(y_test,d_pred)"
      ]
    },
    {
      "cell_type": "code",
      "execution_count": null,
      "metadata": {
        "id": "Kz9siJ10sCpq"
      },
      "outputs": [],
      "source": [
        "import matplotlib.pyplot as plt\n",
        "import seaborn as sns"
      ]
    },
    {
      "cell_type": "code",
      "execution_count": null,
      "metadata": {
        "id": "3ANYqTPCsHSz"
      },
      "outputs": [],
      "source": [
        "import numpy as np"
      ]
    },
    {
      "cell_type": "code",
      "execution_count": null,
      "metadata": {
        "id": "A6qyDjOwrv-0"
      },
      "outputs": [],
      "source": [
        "from sklearn.metrics import accuracy_score"
      ]
    },
    {
      "cell_type": "code",
      "execution_count": null,
      "metadata": {
        "colab": {
          "base_uri": "https://localhost:8080/",
          "height": 449
        },
        "id": "l9oh4aCUrTPr",
        "outputId": "5b59f388-5f83-4a1c-8544-6ae920a0010d"
      },
      "outputs": [],
      "source": [
        "\n",
        "\n",
        "\n",
        "\n",
        "\n",
        "accuracies = {\n",
        "    'logistic': accuracy_score(y_test, L_pred),\n",
        "    'svc': accuracy_score(y_test, s_pred),\n",
        "    'DecisionTree': accuracy_score(y_test, d_pred),\n",
        "    'RandomForest': accuracy_score(y_test, R_pred)\n",
        "}\n",
        "# Create a DataFrame from accuracies\n",
        "accuracy_df = pd.DataFrame(list(accuracies.items()), columns=['Category', 'Value'])\n",
        "\n",
        "# Create the bar plot\n",
        "sns.barplot(x='Category', y='Value', data=accuracy_df)\n",
        "plt.show()"
      ]
    },
    {
      "cell_type": "code",
      "execution_count": null,
      "metadata": {
        "colab": {
          "base_uri": "https://localhost:8080/"
        },
        "id": "5MzGk-N-tga8",
        "outputId": "0c18a8d9-0272-4908-be1f-82505f92c4ff"
      },
      "outputs": [],
      "source": [
        "pip install pickle-mixin"
      ]
    },
    {
      "cell_type": "code",
      "execution_count": null,
      "metadata": {
        "id": "us4d85YetieN"
      },
      "outputs": [],
      "source": [
        "import pickle"
      ]
    },
    {
      "cell_type": "code",
      "execution_count": null,
      "metadata": {
        "id": "PYhaNHPktyOx"
      },
      "outputs": [],
      "source": [
        "filename='model.pkl'"
      ]
    },
    {
      "cell_type": "code",
      "execution_count": null,
      "metadata": {
        "id": "M4eNMUtEt1qS"
      },
      "outputs": [],
      "source": [
        "with open (filename,'wb') as file:\n",
        "  pickle.dump(R,file)"
      ]
    },
    {
      "cell_type": "code",
      "execution_count": null,
      "metadata": {
        "id": "Fh1WiUfot5e1"
      },
      "outputs": [],
      "source": [
        "filename='vectorizer.pkl'"
      ]
    },
    {
      "cell_type": "code",
      "execution_count": null,
      "metadata": {
        "id": "EWAhyAUWwAns"
      },
      "outputs": [],
      "source": [
        "with open(filename,'wb') as file:\n",
        "  pickle.dump(vectorizer,file)"
      ]
    },
    {
      "cell_type": "code",
      "execution_count": null,
      "metadata": {
        "id": "r6z7I-IMwGar"
      },
      "outputs": [],
      "source": []
    }
  ],
  "metadata": {
    "colab": {
      "provenance": []
    },
    "kernelspec": {
      "display_name": "Python 3",
      "name": "python3"
    },
    "language_info": {
      "name": "python",
      "version": "3.7.9"
    }
  },
  "nbformat": 4,
  "nbformat_minor": 0
}
